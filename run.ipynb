{
  "cells": [
    {
      "cell_type": "markdown",
      "metadata": {
        "id": "view-in-github"
      },
      "source": [
        "[![Open In Colab](https://colab.research.google.com/assets/colab-badge.svg)](https://colab.research.google.com/github/camenduru/$sdw-colab/blob/drive/run.ipynb)"
      ]
    },
    {
      "cell_type": "code",
      "execution_count": null,
      "metadata": {
        "id": "SaAJk33ppFw1"
      },
      "outputs": [],
      "source": [
        "%cd /content\n",
        "from google.colab import drive\n",
        "drive.mount('/content/drive')\n",
        "import os\n",
        "import sys\n",
        "import base64\n",
        "\n",
        "w = base64.b64decode((\"d2VidWk=\").encode('ascii')).decode('ascii')\n",
        "sdw = base64.b64decode((\"c3RhYmxlLWRpZmZ1c2lvbi13ZWJ1aQ==\").encode('ascii')).decode('ascii')\n",
        "\n",
        "%env PYTHONDONTWRITEBYTECODE=1\n",
        "%env TF_CPP_MIN_LOG_LEVEL=1\n",
        "\n",
        "!apt -y update -qq\n",
        "!wget https://github.com/camenduru/gperftools/releases/download/v1.0/libtcmalloc_minimal.so.4 -O /content/libtcmalloc_minimal.so.4\n",
        "%env LD_PRELOAD=/content/libtcmalloc_minimal.so.4\n",
        "\n",
        "!apt -y install -qq aria2 libcairo2-dev pkg-config python3-dev\n",
        "!apt -y install -qq unionfs-fuse\n",
        "!pip install -q torch==2.0.0+cu118 torchvision==0.15.1+cu118 torchaudio==2.0.1+cu118 torchtext==0.15.1 torchdata==0.6.0 --extra-index-url https://download.pytorch.org/whl/cu118 -U\n",
        "!pip install -q xformers==0.0.19 triton==2.0.0 -U\n",
        "\n",
        "!mkdir /content/fused-models\n",
        "!mkdir /content/models\n",
        "!mkdir /content/fused-lora\n",
        "!mkdir /content/lora\n",
        "!unionfs-fuse /content/drive/MyDrive/$sdw-colab/$sdw/models/Stable-diffusion=RW:/content/models=RW /content/fused-models\n",
        "!unionfs-fuse /content/drive/MyDrive/$sdw-colab/$sdw/extensions/sd-$w-additional-networks/models/lora=RW:/content/drive/MyDrive/$sdw-colab/$sdw/models/Lora=RW:/content/lora=RW /content/fused-lora\n",
        "\n",
        "%cd /content/drive/MyDrive/$sdw-colab/$sdw\n",
        "\n",
        "!git reset --hard\n",
        "!git -C /content/drive/MyDrive/$sdw-colab/$sdw/repositories/stable-diffusion-stability-ai reset --hard\n",
        "\n",
        "# !git -C /content/drive/MyDrive/$sdw-colab/$sdw/extensions/deforum-for-automatic1111-$w reset --hard\n",
        "# !git -C /content/drive/MyDrive/$sdw-colab/$sdw/extensions/deforum-for-automatic1111-$w pull\n",
        "# !git -C /content/drive/MyDrive/$sdw-colab/$sdw/extensions/$sdw-images-browser reset --hard\n",
        "# !git -C /content/drive/MyDrive/$sdw-colab/$sdw/extensions/$sdw-images-browser pull\n",
        "# !git -C /content/drive/MyDrive/$sdw-colab/$sdw/extensions/$sdw-huggingface reset --hard\n",
        "# !git -C /content/drive/MyDrive/$sdw-colab/$sdw/extensions/$sdw-huggingface pull\n",
        "# !git -C /content/drive/MyDrive/$sdw-colab/$sdw/extensions/sd-civitai-browser reset --hard\n",
        "# !git -C /content/drive/MyDrive/$sdw-colab/$sdw/extensions/sd-civitai-browser pull\n",
        "# !git -C /content/drive/MyDrive/$sdw-colab/$sdw/extensions/sd-$w-additional-networks reset --hard\n",
        "# !git -C /content/drive/MyDrive/$sdw-colab/$sdw/extensions/sd-$w-additional-networks pull\n",
        "# !git -C /content/drive/MyDrive/$sdw-colab/$sdw/extensions/sd-$w-controlnet reset --hard\n",
        "# !git -C /content/drive/MyDrive/$sdw-colab/$sdw/extensions/sd-$w-controlnet pull\n",
        "# !git -C /content/drive/MyDrive/$sdw-colab/$sdw/extensions/openpose-editor reset --hard\n",
        "# !git -C /content/drive/MyDrive/$sdw-colab/$sdw/extensions/openpose-editor pull\n",
        "# !git -C /content/drive/MyDrive/$sdw-colab/$sdw/extensions/sd-$w-depth-lib reset --hard\n",
        "# !git -C /content/drive/MyDrive/$sdw-colab/$sdw/extensions/sd-$w-depth-lib pull\n",
        "# !git -C /content/drive/MyDrive/$sdw-colab/$sdw/extensions/posex reset --hard\n",
        "# !git -C /content/drive/MyDrive/$sdw-colab/$sdw/extensions/posex pull\n",
        "!git -C /content/drive/MyDrive/$sdw-colab/$sdw/extensions/sd-$w-tunnels reset --hard\n",
        "!git -C /content/drive/MyDrive/$sdw-colab/$sdw/extensions/sd-$w-tunnels pull\n",
        "# !git -C /content/drive/MyDrive/$sdw-colab/$sdw/extensions/batchlinks-$w reset --hard\n",
        "# !git -C /content/drive/MyDrive/$sdw-colab/$sdw/extensions/batchlinks-$w pull\n",
        "# !git -C /content/drive/MyDrive/$sdw-colab/$sdw/extensions/$sdw-catppuccin reset --hard\n",
        "# !git -C /content/drive/MyDrive/$sdw-colab/$sdw/extensions/$sdw-catppuccin pull\n",
        "# !git -C /content/drive/MyDrive/$sdw-colab/$sdw/extensions/$sdw-rembg reset --hard\n",
        "# !git -C /content/drive/MyDrive/$sdw-colab/$sdw/extensions/$sdw-rembg pull\n",
        "# !git -C /content/drive/MyDrive/$sdw-colab/$sdw/extensions/$sdw-two-shot reset --hard\n",
        "# !git -C /content/drive/MyDrive/$sdw-colab/$sdw/extensions/$sdw-two-shot pull\n",
        "# !git -C /content/drive/MyDrive/$sdw-colab/$sdw/extensions/sd-$w-3d-open-pose-editor reset --hard\n",
        "# !git -C /content/drive/MyDrive/$sdw-colab/$sdw/extensions/sd-$w-3d-open-pose-editor pull\n",
        "# !git -C /content/drive/MyDrive/$sdw-colab/$sdw/extensions/sd-$w-aspect-ratio-helper reset --hard\n",
        "# !git -C /content/drive/MyDrive/$sdw-colab/$sdw/extensions/sd-$w-aspect-ratio-helper pull\n",
        "\n",
        "!sed -i -e '''/    prepare_environment()/a\\    os.system\\(f\\\"\"\"sed -i -e ''\\\"s/dict()))/dict())).cuda()/g\\\"'' /content/drive/MyDrive/$sdw-colab/$sdw/repositories/stable-diffusion-stability-ai/ldm/util.py\"\"\")''' /content/drive/MyDrive/$sdw-colab/$sdw/launch.py\n",
        "!sed -i -e 's/checkout {commithash}/checkout --force {commithash}/g' /content/drive/MyDrive/$sdw-colab/$sdw/launch.py\n",
        "\n",
        "import os\n",
        "import sys\n",
        "import base64\n",
        "\n",
        "w = base64.b64decode((\"d2VidWk=\").encode('ascii')).decode('ascii')\n",
        "sdw = base64.b64decode((\"c3RhYmxlLWRpZmZ1c2lvbi13ZWJ1aQ==\").encode('ascii')).decode('ascii')\n",
        "if not os.path.exists(f\"/content/drive/MyDrive/{sdw}-colab/{sdw}/models/CLIP\"):\n",
        "  os.mkdir(f\"/content/drive/MyDrive/{sdw}-colab/{sdw}/models/CLIP\")\n",
        "!aria2c --console-log-level=error -c -x 16 -s 16 -k 1M https://openaipublic.azureedge.net/clip/models/b8cca3fd41ae0c99ba7e8951adf17d267cdb84cd88be6f7c2e0eca1737a03836/ViT-L-14.pt -d /content/drive/MyDrive/$sdw-colab/$sdw/models/CLIP -o ViT-L-14.pt\n",
        "\n",
        "!git add .\n",
        "!git commit -m 'test'\n",
        "print('test')\n",
        "# Wednesday, May 31, 2023 - We have a new update. Please use the \"One Time Install & Update\" Colab.\n",
        "!python launch.py --listen --xformers --enable-insecure-extension-access --theme dark --gradio-queue --clip-models-path /content/drive/MyDrive/$sdw-colab/$sdw/models/CLIP --ckpt-dir /content/fused-models --lora-dir /content/fused-lora --multiple"
      ]
    }
  ],
  "metadata": {
    "accelerator": "GPU",
    "colab": {
      "collapsed_sections": [],
      "private_outputs": true,
      "provenance": []
    },
    "gpuClass": "standard",
    "kernelspec": {
      "display_name": "Python 3",
      "name": "python3"
    },
    "language_info": {
      "name": "python"
    }
  },
  "nbformat": 4,
  "nbformat_minor": 0
}
