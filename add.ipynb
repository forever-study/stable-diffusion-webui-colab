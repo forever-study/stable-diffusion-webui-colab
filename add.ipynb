{
  "cells": [
    {
      "cell_type": "markdown",
      "metadata": {
        "id": "view-in-github"
      },
      "source": [
        "[![Open In Colab](https://colab.research.google.com/assets/colab-badge.svg)](https://colab.research.google.com/github/camenduru/$sdw-colab/blob/drive/add.ipynb)"
      ]
    },
    {
      "cell_type": "code",
      "execution_count": null,
      "metadata": {
        "cellView": "form",
        "id": "SaAJk33ppFw1"
      },
      "outputs": [],
      "source": [
        "from google.colab import drive\n",
        "drive.mount('/content/drive')\n",
        "import sys\n",
        "import os\n",
        "import base64\n",
        "\n",
        "w = base64.b64decode((\"d2VidWk=\").encode('ascii')).decode('ascii')\n",
        "sdw = base64.b64decode((\"c3RhYmxlLWRpZmZ1c2lvbi13ZWJ1aQ==\").encode('ascii')).decode('ascii')\n",
        "\n",
        "!apt-get -y install -qq aria2\n",
        "\n",
        "model_url = \"https://huggingface.co/ckpt/anything-v4.5-vae-swapped/resolve/main/anything-v4.5-vae-swapped.safetensors\" #@param {type:\"string\"}\n",
        "model_name = \"anything-v4.5-vae-swapped.safetensors\" #@param {type:\"string\"}\n",
        "model_url = f\"\\\"{model_url}\\\"\"\n",
        "!aria2c --console-log-level=error -c -x 16 -s 16 -k 1M {model_url} -d /content/drive/MyDrive/$sdw-colab/$sdw/models/Stable-diffusion -o {model_name}"
      ]
    }
  ],
  "metadata": {
    "colab": {
      "collapsed_sections": [],
      "private_outputs": true,
      "provenance": []
    },
    "gpuClass": "standard",
    "kernelspec": {
      "display_name": "Python 3",
      "name": "python3"
    },
    "language_info": {
      "name": "python"
    }
  },
  "nbformat": 4,
  "nbformat_minor": 0
}
